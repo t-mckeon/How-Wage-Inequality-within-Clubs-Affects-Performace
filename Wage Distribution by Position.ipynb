{
 "cells": [
  {
   "cell_type": "code",
   "execution_count": 1,
   "metadata": {},
   "outputs": [],
   "source": [
    "import pandas as pd\n",
    "import matplotlib.pyplot as plt\n",
    "import numpy as np\n",
    "import seaborn as sns\n",
    "import math\n",
    "import scipy\n",
    "import sklearn\n",
    "import statistics"
   ]
  },
  {
   "cell_type": "code",
   "execution_count": 39,
   "metadata": {},
   "outputs": [],
   "source": [
    "#Load in datasets\n",
    "wage_data = pd.read_excel('Wages_2013-2020.xlsx')\n",
    "tables_data = pd.read_excel('Final Tables 2013-2020.xlsx')"
   ]
  },
  {
   "cell_type": "code",
   "execution_count": 40,
   "metadata": {},
   "outputs": [],
   "source": [
    "# Function that calculates a team's point tally in the form of percent of potential possible points\n",
    "# This normalizes points tallys, as some leagues play more or less games than others\n",
    "def grab_percent_of_potential(points, league):\n",
    "    if league == 'Bundesliga':\n",
    "        return (points/102)*100\n",
    "    else:\n",
    "        return (points/114)*100\n",
    "    \n",
    "# Apply to table dataset\n",
    "tables_data['pct_of_potential_points'] = tables_data.apply(lambda x: grab_percent_of_potential(x.points, x.league), axis=1)"
   ]
  },
  {
   "cell_type": "code",
   "execution_count": 41,
   "metadata": {},
   "outputs": [],
   "source": [
    "#Reconsile name differences between datasets\n",
    "tables_data.team = tables_data.team.str.lower().str.replace(' ', '-')\n",
    "#Teams with different names between datasets that I found\n",
    "match_names = {'ac-ajaccio': 'ajaccio',\n",
    " 'as-roma': 'roma',\n",
    " 'athletic-bilbao': 'athletic-club',\n",
    " 'borussia-monchengladbach': 'monchengladbach',\n",
    " 'braunschweig': 'braunschweiger',\n",
    " 'celta-de-vigo': 'celta-vigo',\n",
    " 'chievo': 'chievo-verona',\n",
    " 'deportivo-de-la-coruna': 'deportivo',\n",
    " 'fc-ingolstadt-04': 'ingolstadt',\n",
    " 'fc-koln': 'koln',\n",
    " 'fortuna-dusseldorf': 'dusseldorf',\n",
    " 'gijon': '',\n",
    " 'hamburger': 'hamburg',\n",
    " 'hannover-96': 'hannover',\n",
    " 'hull': 'hull-city',\n",
    " 'leverkusen': 'bayer-leverkusen',\n",
    " 'olympique-lyonnais': 'lyon',\n",
    " 'paris-saint-germain': 'psg',\n",
    " 'rb-leipzig': 'leipzig',\n",
    " 'real-mallorca': 'mallorca',\n",
    " 'real-valladolid': 'valladolid',\n",
    " 'sc-paderborn-07': 'paderborn',\n",
    " 'sv-darmstadt-98': 'darmstadt',\n",
    " 'schalke': 'schalke-04',\n",
    " 'vfb-stuttgart': 'stuttgart',\n",
    " 'verona': 'hellas-verona', \n",
    " 'west-brom': 'west-bromwich', \n",
    " 'stoke': 'stoke-city', \n",
    " 'man-utd': 'manchester-united', \n",
    " 'man-city': 'manchester-city'}\n",
    "#Create reconsiled list and apply to tables data\n",
    "team_list = []\n",
    "for team in tables_data.team:\n",
    "    if team in match_names.keys():\n",
    "        team_list.append(match_names[team])\n",
    "    else:\n",
    "        team_list.append(team)\n",
    "tables_data.team = team_list \n",
    "\n",
    "# Group datasets by team and year, rename columns\n",
    "team_tables = tables_data[['team', 'year', 'points', 'pct_of_potential_points']].groupby(['team','year']).sum()\n",
    "wage_data.rename(columns = {'Year': 'year', 'Team': 'team', 'Salary (€/year)': 'salary'}, inplace = True)\n",
    "team_wages = wage_data[['year', \"team\", 'salary']].groupby(['team', 'year']).sum()"
   ]
  },
  {
   "cell_type": "code",
   "execution_count": 42,
   "metadata": {},
   "outputs": [],
   "source": [
    "## Create main dataset - combining table and wages datasets\n",
    "total = team_tables.merge(team_wages,left_index=True, right_index=True)\n",
    "\n",
    "# Normalize salary data by league, max value of 101 referring to most expensive team, min value of 1 the least expensive\n",
    "\n",
    "\n",
    "max_wages = wage_data.groupby([\"League\", 'team', 'year']).sum().reset_index().groupby(['League', 'year']).max() #Grab most expensive team by league, year\n",
    "min_wages = wage_data.groupby([\"League\", 'team', 'year']).sum().reset_index().groupby(['League', 'year']).min() #Grab least expensive team by league, year\n",
    "def normalized_salary(team, year):\n",
    "    league = wage_data.loc[(wage_data.team == team)].iloc[0].League \n",
    "    league_max_wage = max_wages.loc[(league, year)].salary #Use dataframes created above to lookup most expensive team in the league for a specific team\n",
    "    league_min_wage = min_wages.loc[(league, year)].salary #Same for least expensive\n",
    "    team_salary = total.loc[(team, year)].salary #Grab specific team's salary\n",
    "    norm_value = (((team_salary - league_min_wage) / (league_max_wage - league_min_wage))+.01)*100 # normalized value - on a 1 to 101 scale\n",
    "    return norm_value\n",
    "\n",
    "total['norm_salary'] = [normalized_salary(x[0], x[1]) for x in total.index]\n"
   ]
  },
  {
   "cell_type": "code",
   "execution_count": 43,
   "metadata": {},
   "outputs": [
    {
     "data": {
      "text/html": [
       "<div>\n",
       "<style scoped>\n",
       "    .dataframe tbody tr th:only-of-type {\n",
       "        vertical-align: middle;\n",
       "    }\n",
       "\n",
       "    .dataframe tbody tr th {\n",
       "        vertical-align: top;\n",
       "    }\n",
       "\n",
       "    .dataframe thead th {\n",
       "        text-align: right;\n",
       "    }\n",
       "</style>\n",
       "<table border=\"1\" class=\"dataframe\">\n",
       "  <thead>\n",
       "    <tr style=\"text-align: right;\">\n",
       "      <th></th>\n",
       "      <th></th>\n",
       "      <th>points</th>\n",
       "      <th>pct_of_potential_points</th>\n",
       "      <th>salary</th>\n",
       "      <th>norm_salary</th>\n",
       "    </tr>\n",
       "    <tr>\n",
       "      <th>team</th>\n",
       "      <th>year</th>\n",
       "      <th></th>\n",
       "      <th></th>\n",
       "      <th></th>\n",
       "      <th></th>\n",
       "    </tr>\n",
       "  </thead>\n",
       "  <tbody>\n",
       "    <tr>\n",
       "      <th rowspan=\"5\" valign=\"top\">ac-milan</th>\n",
       "      <th>2013</th>\n",
       "      <td>57</td>\n",
       "      <td>50.000000</td>\n",
       "      <td>88132000</td>\n",
       "      <td>101.000000</td>\n",
       "    </tr>\n",
       "    <tr>\n",
       "      <th>2014</th>\n",
       "      <td>52</td>\n",
       "      <td>45.614035</td>\n",
       "      <td>77566000</td>\n",
       "      <td>101.000000</td>\n",
       "    </tr>\n",
       "    <tr>\n",
       "      <th>2015</th>\n",
       "      <td>57</td>\n",
       "      <td>50.000000</td>\n",
       "      <td>73608000</td>\n",
       "      <td>83.865203</td>\n",
       "    </tr>\n",
       "    <tr>\n",
       "      <th>2016</th>\n",
       "      <td>63</td>\n",
       "      <td>55.263158</td>\n",
       "      <td>60973000</td>\n",
       "      <td>50.884438</td>\n",
       "    </tr>\n",
       "    <tr>\n",
       "      <th>2017</th>\n",
       "      <td>64</td>\n",
       "      <td>56.140351</td>\n",
       "      <td>105858000</td>\n",
       "      <td>73.946583</td>\n",
       "    </tr>\n",
       "    <tr>\n",
       "      <th>...</th>\n",
       "      <th>...</th>\n",
       "      <td>...</td>\n",
       "      <td>...</td>\n",
       "      <td>...</td>\n",
       "      <td>...</td>\n",
       "    </tr>\n",
       "    <tr>\n",
       "      <th rowspan=\"2\" valign=\"top\">wolfsburg</th>\n",
       "      <th>2019</th>\n",
       "      <td>49</td>\n",
       "      <td>48.039216</td>\n",
       "      <td>66870000</td>\n",
       "      <td>33.293915</td>\n",
       "    </tr>\n",
       "    <tr>\n",
       "      <th>2020</th>\n",
       "      <td>61</td>\n",
       "      <td>59.803922</td>\n",
       "      <td>57870000</td>\n",
       "      <td>26.379803</td>\n",
       "    </tr>\n",
       "    <tr>\n",
       "      <th rowspan=\"3\" valign=\"top\">wolverhampton</th>\n",
       "      <th>2018</th>\n",
       "      <td>57</td>\n",
       "      <td>50.000000</td>\n",
       "      <td>44614426</td>\n",
       "      <td>4.446349</td>\n",
       "    </tr>\n",
       "    <tr>\n",
       "      <th>2019</th>\n",
       "      <td>59</td>\n",
       "      <td>51.754386</td>\n",
       "      <td>64941483</td>\n",
       "      <td>22.202039</td>\n",
       "    </tr>\n",
       "    <tr>\n",
       "      <th>2020</th>\n",
       "      <td>45</td>\n",
       "      <td>39.473684</td>\n",
       "      <td>61802744</td>\n",
       "      <td>19.131833</td>\n",
       "    </tr>\n",
       "  </tbody>\n",
       "</table>\n",
       "<p>777 rows × 4 columns</p>\n",
       "</div>"
      ],
      "text/plain": [
       "                    points  pct_of_potential_points     salary  norm_salary\n",
       "team          year                                                         \n",
       "ac-milan      2013      57                50.000000   88132000   101.000000\n",
       "              2014      52                45.614035   77566000   101.000000\n",
       "              2015      57                50.000000   73608000    83.865203\n",
       "              2016      63                55.263158   60973000    50.884438\n",
       "              2017      64                56.140351  105858000    73.946583\n",
       "...                    ...                      ...        ...          ...\n",
       "wolfsburg     2019      49                48.039216   66870000    33.293915\n",
       "              2020      61                59.803922   57870000    26.379803\n",
       "wolverhampton 2018      57                50.000000   44614426     4.446349\n",
       "              2019      59                51.754386   64941483    22.202039\n",
       "              2020      45                39.473684   61802744    19.131833\n",
       "\n",
       "[777 rows x 4 columns]"
      ]
     },
     "execution_count": 43,
     "metadata": {},
     "output_type": "execute_result"
    }
   ],
   "source": [
    "total"
   ]
  },
  {
   "cell_type": "code",
   "execution_count": 44,
   "metadata": {},
   "outputs": [
    {
     "data": {
      "text/plain": [
       "array([[<matplotlib.axes._subplots.AxesSubplot object at 0x7fad031116d0>]],\n",
       "      dtype=object)"
      ]
     },
     "execution_count": 44,
     "metadata": {},
     "output_type": "execute_result"
    },
    {
     "data": {
      "image/png": "[encoded data removed]",
      "text/plain": [
       "<Figure size 576x360 with 1 Axes>"
      ]
     },
     "metadata": {
      "needs_background": "light"
     },
     "output_type": "display_data"
    }
   ],
   "source": [
    "# As we can see in the histogram, the normalized salary data is distributed logarithmically (more or less)\n",
    "# with most teams in the poorest 10% bin, and the number of teams decreasing as we move to the richer bins\n",
    "total.hist('norm_salary',figsize=(8,5))"
   ]
  },
  {
   "cell_type": "code",
   "execution_count": 45,
   "metadata": {},
   "outputs": [],
   "source": [
    "# Create log function of the normalized salary\n",
    "total['log_norm_salary'] = np.log(total['norm_salary'])"
   ]
  },
  {
   "cell_type": "code",
   "execution_count": 46,
   "metadata": {},
   "outputs": [
    {
     "data": {
      "text/plain": [
       "array([[<matplotlib.axes._subplots.AxesSubplot object at 0x7fad031d7dd0>]],\n",
       "      dtype=object)"
      ]
     },
     "execution_count": 46,
     "metadata": {},
     "output_type": "execute_result"
    },
    {
     "data": {
      "image/png": "[encoded data removed]",
      "text/plain": [
       "<Figure size 576x360 with 1 Axes>"
      ]
     },
     "metadata": {
      "needs_background": "light"
     },
     "output_type": "display_data"
    }
   ],
   "source": [
    "# Now, the logarithmic normalized salary data is more or less normally distributed\n",
    "total.hist('log_norm_salary',figsize=(8,5))"
   ]
  },
  {
   "cell_type": "code",
   "execution_count": 47,
   "metadata": {},
   "outputs": [],
   "source": [
    "def NormalizeData(data):\n",
    "    return (data - np.min(data)) / (np.max(data) - np.min(data))"
   ]
  },
  {
   "cell_type": "code",
   "execution_count": 60,
   "metadata": {},
   "outputs": [
    {
     "name": "stdout",
     "output_type": "stream",
     "text": [
      "[ 8.4292024  24.30886239]\n"
     ]
    },
    {
     "name": "stderr",
     "output_type": "stream",
     "text": [
      "/opt/anaconda3/lib/python3.7/site-packages/ipykernel_launcher.py:7: RuntimeWarning: divide by zero encountered in log\n",
      "  import sys\n"
     ]
    },
    {
     "data": {
      "image/png": "[encoded data removed]",
      "text/plain": [
       "<Figure size 432x432 with 1 Axes>"
      ]
     },
     "metadata": {
      "needs_background": "light"
     },
     "output_type": "display_data"
    }
   ],
   "source": [
    "# Visual representation of the logarithmic fit between normalized salary and the percent of potential points\n",
    "x = total.norm_salary\n",
    "y = total.pct_of_potential_points\n",
    "fit = np.polyfit(np.log(x), y, 1)\n",
    "print(fit)\n",
    "x = np.linspace(0,102,1000)\n",
    "y = fit[1] + fit[0]*np.log(x)\n",
    "\n",
    "fig, ax = plt.subplots(figsize=(6, 6))\n",
    "ax = sns.scatterplot(data = total, x = 'norm_salary', y = 'pct_of_potential_points')\n",
    "ax.plot(x,y, 'blue', linewidth=3)\n",
    "plt.xlabel('Wage Bill (Normalized by League and Year)', size = 12)\n",
    "plt.ylabel('% of Potential Points', size = 12)\n",
    "ax.spines['right'].set_visible(False)\n",
    "ax.spines['top'].set_visible(False)\n",
    "plt.savefig('norm_salary_ppp.png')"
   ]
  },
  {
   "cell_type": "code",
   "execution_count": 12,
   "metadata": {},
   "outputs": [
    {
     "name": "stdout",
     "output_type": "stream",
     "text": [
      "[0.08429202 0.24308862]\n"
     ]
    },
    {
     "data": {
      "image/png": "[encoded data removed]",
      "text/plain": [
       "<Figure size 432x288 with 1 Axes>"
      ]
     },
     "metadata": {
      "needs_background": "light"
     },
     "output_type": "display_data"
    }
   ],
   "source": [
    "# Visual representation of the linear between logarithmic normalized salary and the percent of potential points\n",
    "x = total.log_norm_salary\n",
    "y = total.pct_of_potential_points\n",
    "fit = np.polyfit(x, y, 1)\n",
    "print(fit)\n",
    "x = np.linspace(0,4.65,1000)\n",
    "y = fit[1] + fit[0]*x\n",
    "sns.scatterplot(data = total, x = 'log_norm_salary', y = 'pct_of_potential_points')\n",
    "plt.plot(x,y, 'blue')\n",
    "plt.show()"
   ]
  },
  {
   "cell_type": "code",
   "execution_count": 13,
   "metadata": {},
   "outputs": [
    {
     "name": "stdout",
     "output_type": "stream",
     "text": [
      "max gini value: ('nice', 2018)\n",
      "gini: 0.6593500234184237\n",
      " \n",
      "min gini value: ('angers', 2016)\n",
      "gini: 0.1473897207607883\n"
     ]
    }
   ],
   "source": [
    "#Gini coefficient - measure of inequality that compares current level of inequality to perfectly equality\n",
    "#Measure the gini coefficient of a team's wage bill\n",
    "\n",
    "def gini(array):\n",
    "    # based on bottom eq: http://www.statsdirect.com/help/content/image/stat0206_wmf.gif\n",
    "    # from: http://www.statsdirect.com/help/default.htm#nonparametric_methods/gini.htm\n",
    "    array = np.trim_zeros(array) #Remove 0's from the array - usually academy players that don't get much playing time\n",
    "    np.trim_zeros(array)\n",
    "    array = array.flatten() #all values are treated equally, arrays must be 1d\n",
    "    if np.amin(array) < 0:\n",
    "        array -= np.amin(array) #values cannot be negative\n",
    "    array += 0.0000001 #values cannot be 0\n",
    "    array = np.sort(array) #values must be sorted\n",
    "    index = np.arange(1,array.shape[0]+1) #index per array element\n",
    "    n = array.shape[0]#number of array elements\n",
    "    return ((np.sum((2 * index - n  - 1) * array)) / (n * np.sum(array))) #Gini coefficient\n",
    "\n",
    "total['gini'] = [gini(np.array(wage_data[(wage_data.team == x[0]) & (wage_data.year == x[1])].salary).astype(float)) for x in total.index] #Grab wage data for each team and year, return gini coefficient and add as a column\n",
    "\n",
    "print('max gini value:', total.gini.idxmax())\n",
    "print('gini:', total.gini.max())\n",
    "print(' ')\n",
    "print('min gini value:', total.gini.idxmin())\n",
    "print('gini:', total.gini.min())"
   ]
  },
  {
   "cell_type": "code",
   "execution_count": 14,
   "metadata": {},
   "outputs": [],
   "source": [
    "# Galt Score\n",
    "# Usually the ratio of a company's CEO wage to the median wage of a worker at that company\n",
    "# In this case, will compare club's top earner to median wage\n",
    "\n",
    "def galt_score(array):\n",
    "    array = np.trim_zeros(array)\n",
    "    top_earner = array.max()\n",
    "    median_wage = statistics.median(array)\n",
    "    return top_earner / median_wage\n",
    "\n",
    "total['galt_score'] = [galt_score(np.array(wage_data[(wage_data.team == x[0]) & (wage_data.year == x[1])].salary).astype(float)) for x in total.index]\n"
   ]
  },
  {
   "cell_type": "code",
   "execution_count": 142,
   "metadata": {},
   "outputs": [
    {
     "name": "stdout",
     "output_type": "stream",
     "text": [
      "max Galt Score value: ('monaco', 2013)\n",
      "gini: 27.96360628618693\n",
      " \n",
      "min Galt Score value: ('angers', 2017)\n",
      "gini: 1.3946524064171122\n"
     ]
    }
   ],
   "source": [
    "print('max Galt Score value:', total.galt_score.idxmax())\n",
    "print('gini:', total.galt_score.max())\n",
    "print(' ')\n",
    "print('min Galt Score value:', total.galt_score.idxmin())\n",
    "print('gini:', total.galt_score.min())"
   ]
  },
  {
   "cell_type": "code",
   "execution_count": 15,
   "metadata": {},
   "outputs": [],
   "source": [
    "#Import statistical modelling packages\n",
    "import statsmodels.api as sm\n",
    "from sklearn.model_selection import train_test_split\n",
    "import math"
   ]
  },
  {
   "cell_type": "code",
   "execution_count": 16,
   "metadata": {},
   "outputs": [
    {
     "data": {
      "text/html": [
       "<table class=\"simpletable\">\n",
       "<caption>OLS Regression Results</caption>\n",
       "<tr>\n",
       "  <th>Dep. Variable:</th>            <td>y</td>        <th>  R-squared:         </th> <td>   0.452</td>\n",
       "</tr>\n",
       "<tr>\n",
       "  <th>Model:</th>                   <td>OLS</td>       <th>  Adj. R-squared:    </th> <td>   0.450</td>\n",
       "</tr>\n",
       "<tr>\n",
       "  <th>Method:</th>             <td>Least Squares</td>  <th>  F-statistic:       </th> <td>   445.3</td>\n",
       "</tr>\n",
       "<tr>\n",
       "  <th>Date:</th>             <td>Fri, 27 May 2022</td> <th>  Prob (F-statistic):</th> <td>1.42e-72</td>\n",
       "</tr>\n",
       "<tr>\n",
       "  <th>Time:</th>                 <td>09:47:57</td>     <th>  Log-Likelihood:    </th> <td>  416.02</td>\n",
       "</tr>\n",
       "<tr>\n",
       "  <th>No. Observations:</th>      <td>   543</td>      <th>  AIC:               </th> <td>  -828.0</td>\n",
       "</tr>\n",
       "<tr>\n",
       "  <th>Df Residuals:</th>          <td>   541</td>      <th>  BIC:               </th> <td>  -819.5</td>\n",
       "</tr>\n",
       "<tr>\n",
       "  <th>Df Model:</th>              <td>     1</td>      <th>                     </th>     <td> </td>   \n",
       "</tr>\n",
       "<tr>\n",
       "  <th>Covariance Type:</th>      <td>nonrobust</td>    <th>                     </th>     <td> </td>   \n",
       "</tr>\n",
       "</table>\n",
       "<table class=\"simpletable\">\n",
       "<tr>\n",
       "         <td></td>            <th>coef</th>     <th>std err</th>      <th>t</th>      <th>P>|t|</th>  <th>[0.025</th>    <th>0.975]</th>  \n",
       "</tr>\n",
       "<tr>\n",
       "  <th>constant</th>        <td>    0.2441</td> <td>    0.011</td> <td>   21.921</td> <td> 0.000</td> <td>    0.222</td> <td>    0.266</td>\n",
       "</tr>\n",
       "<tr>\n",
       "  <th>log_norm_salary</th> <td>    0.0838</td> <td>    0.004</td> <td>   21.103</td> <td> 0.000</td> <td>    0.076</td> <td>    0.092</td>\n",
       "</tr>\n",
       "</table>\n",
       "<table class=\"simpletable\">\n",
       "<tr>\n",
       "  <th>Omnibus:</th>       <td> 2.114</td> <th>  Durbin-Watson:     </th> <td>   1.968</td>\n",
       "</tr>\n",
       "<tr>\n",
       "  <th>Prob(Omnibus):</th> <td> 0.347</td> <th>  Jarque-Bera (JB):  </th> <td>   1.920</td>\n",
       "</tr>\n",
       "<tr>\n",
       "  <th>Skew:</th>          <td>-0.054</td> <th>  Prob(JB):          </th> <td>   0.383</td>\n",
       "</tr>\n",
       "<tr>\n",
       "  <th>Kurtosis:</th>      <td> 2.730</td> <th>  Cond. No.          </th> <td>    7.14</td>\n",
       "</tr>\n",
       "</table><br/><br/>Warnings:<br/>[1] Standard Errors assume that the covariance matrix of the errors is correctly specified."
      ],
      "text/plain": [
       "<class 'statsmodels.iolib.summary.Summary'>\n",
       "\"\"\"\n",
       "                            OLS Regression Results                            \n",
       "==============================================================================\n",
       "Dep. Variable:                      y   R-squared:                       0.452\n",
       "Model:                            OLS   Adj. R-squared:                  0.450\n",
       "Method:                 Least Squares   F-statistic:                     445.3\n",
       "Date:                Fri, 27 May 2022   Prob (F-statistic):           1.42e-72\n",
       "Time:                        09:47:57   Log-Likelihood:                 416.02\n",
       "No. Observations:                 543   AIC:                            -828.0\n",
       "Df Residuals:                     541   BIC:                            -819.5\n",
       "Df Model:                           1                                         \n",
       "Covariance Type:            nonrobust                                         \n",
       "===================================================================================\n",
       "                      coef    std err          t      P>|t|      [0.025      0.975]\n",
       "-----------------------------------------------------------------------------------\n",
       "constant            0.2441      0.011     21.921      0.000       0.222       0.266\n",
       "log_norm_salary     0.0838      0.004     21.103      0.000       0.076       0.092\n",
       "==============================================================================\n",
       "Omnibus:                        2.114   Durbin-Watson:                   1.968\n",
       "Prob(Omnibus):                  0.347   Jarque-Bera (JB):                1.920\n",
       "Skew:                          -0.054   Prob(JB):                        0.383\n",
       "Kurtosis:                       2.730   Cond. No.                         7.14\n",
       "==============================================================================\n",
       "\n",
       "Warnings:\n",
       "[1] Standard Errors assume that the covariance matrix of the errors is correctly specified.\n",
       "\"\"\""
      ]
     },
     "execution_count": 16,
     "metadata": {},
     "output_type": "execute_result"
    }
   ],
   "source": [
    "# Train a linear regression model using logarithmic normalized salary as the \n",
    "# independant variable, and percent of potential points as the dependant variable \n",
    "\n",
    "total['constant'] = 1\n",
    "X1 = total[['constant','log_norm_salary']]\n",
    "y1 = total.pct_of_potential_points.values\n",
    "\n",
    "X_train1, X_test1, y_train1, y_test1 = train_test_split(X1, y1, test_size=0.3, random_state=0)\n",
    "\n",
    "reg_sm1 = sm.OLS(y_train1, X_train1).fit()\n",
    "reg_sm1.summary()"
   ]
  },
  {
   "cell_type": "code",
   "execution_count": 17,
   "metadata": {},
   "outputs": [
    {
     "data": {
      "image/png": "[encoded data removed]",
      "text/plain": [
       "<Figure size 432x288 with 1 Axes>"
      ]
     },
     "metadata": {
      "needs_background": "light"
     },
     "output_type": "display_data"
    }
   ],
   "source": [
    "x = np.linspace(total.log_norm_salary.min(),total.log_norm_salary.max(),1000)\n",
    "y = reg_sm1.params[0] + reg_sm1.params[1]*x\n",
    "sns.scatterplot(data = total, x = 'log_norm_salary', y = 'pct_of_potential_points')\n",
    "plt.plot(x,y, 'blue')\n",
    "plt.show()"
   ]
  },
  {
   "cell_type": "code",
   "execution_count": 18,
   "metadata": {},
   "outputs": [
    {
     "data": {
      "text/html": [
       "<table class=\"simpletable\">\n",
       "<caption>OLS Regression Results</caption>\n",
       "<tr>\n",
       "  <th>Dep. Variable:</th>            <td>y</td>        <th>  R-squared:         </th> <td>   0.456</td>\n",
       "</tr>\n",
       "<tr>\n",
       "  <th>Model:</th>                   <td>OLS</td>       <th>  Adj. R-squared:    </th> <td>   0.454</td>\n",
       "</tr>\n",
       "<tr>\n",
       "  <th>Method:</th>             <td>Least Squares</td>  <th>  F-statistic:       </th> <td>   226.1</td>\n",
       "</tr>\n",
       "<tr>\n",
       "  <th>Date:</th>             <td>Fri, 27 May 2022</td> <th>  Prob (F-statistic):</th> <td>4.57e-72</td>\n",
       "</tr>\n",
       "<tr>\n",
       "  <th>Time:</th>                 <td>09:47:57</td>     <th>  Log-Likelihood:    </th> <td>  418.15</td>\n",
       "</tr>\n",
       "<tr>\n",
       "  <th>No. Observations:</th>      <td>   543</td>      <th>  AIC:               </th> <td>  -830.3</td>\n",
       "</tr>\n",
       "<tr>\n",
       "  <th>Df Residuals:</th>          <td>   540</td>      <th>  BIC:               </th> <td>  -817.4</td>\n",
       "</tr>\n",
       "<tr>\n",
       "  <th>Df Model:</th>              <td>     2</td>      <th>                     </th>     <td> </td>   \n",
       "</tr>\n",
       "<tr>\n",
       "  <th>Covariance Type:</th>      <td>nonrobust</td>    <th>                     </th>     <td> </td>   \n",
       "</tr>\n",
       "</table>\n",
       "<table class=\"simpletable\">\n",
       "<tr>\n",
       "         <td></td>            <th>coef</th>     <th>std err</th>      <th>t</th>      <th>P>|t|</th>  <th>[0.025</th>    <th>0.975]</th>  \n",
       "</tr>\n",
       "<tr>\n",
       "  <th>constant</th>        <td>    0.2019</td> <td>    0.023</td> <td>    8.669</td> <td> 0.000</td> <td>    0.156</td> <td>    0.248</td>\n",
       "</tr>\n",
       "<tr>\n",
       "  <th>log_norm_salary</th> <td>    0.0806</td> <td>    0.004</td> <td>   19.009</td> <td> 0.000</td> <td>    0.072</td> <td>    0.089</td>\n",
       "</tr>\n",
       "<tr>\n",
       "  <th>gini</th>            <td>    0.1203</td> <td>    0.058</td> <td>    2.058</td> <td> 0.040</td> <td>    0.005</td> <td>    0.235</td>\n",
       "</tr>\n",
       "</table>\n",
       "<table class=\"simpletable\">\n",
       "<tr>\n",
       "  <th>Omnibus:</th>       <td> 1.668</td> <th>  Durbin-Watson:     </th> <td>   1.977</td>\n",
       "</tr>\n",
       "<tr>\n",
       "  <th>Prob(Omnibus):</th> <td> 0.434</td> <th>  Jarque-Bera (JB):  </th> <td>   1.640</td>\n",
       "</tr>\n",
       "<tr>\n",
       "  <th>Skew:</th>          <td>-0.070</td> <th>  Prob(JB):          </th> <td>   0.441</td>\n",
       "</tr>\n",
       "<tr>\n",
       "  <th>Kurtosis:</th>      <td> 2.770</td> <th>  Cond. No.          </th> <td>    38.3</td>\n",
       "</tr>\n",
       "</table><br/><br/>Warnings:<br/>[1] Standard Errors assume that the covariance matrix of the errors is correctly specified."
      ],
      "text/plain": [
       "<class 'statsmodels.iolib.summary.Summary'>\n",
       "\"\"\"\n",
       "                            OLS Regression Results                            \n",
       "==============================================================================\n",
       "Dep. Variable:                      y   R-squared:                       0.456\n",
       "Model:                            OLS   Adj. R-squared:                  0.454\n",
       "Method:                 Least Squares   F-statistic:                     226.1\n",
       "Date:                Fri, 27 May 2022   Prob (F-statistic):           4.57e-72\n",
       "Time:                        09:47:57   Log-Likelihood:                 418.15\n",
       "No. Observations:                 543   AIC:                            -830.3\n",
       "Df Residuals:                     540   BIC:                            -817.4\n",
       "Df Model:                           2                                         \n",
       "Covariance Type:            nonrobust                                         \n",
       "===================================================================================\n",
       "                      coef    std err          t      P>|t|      [0.025      0.975]\n",
       "-----------------------------------------------------------------------------------\n",
       "constant            0.2019      0.023      8.669      0.000       0.156       0.248\n",
       "log_norm_salary     0.0806      0.004     19.009      0.000       0.072       0.089\n",
       "gini                0.1203      0.058      2.058      0.040       0.005       0.235\n",
       "==============================================================================\n",
       "Omnibus:                        1.668   Durbin-Watson:                   1.977\n",
       "Prob(Omnibus):                  0.434   Jarque-Bera (JB):                1.640\n",
       "Skew:                          -0.070   Prob(JB):                        0.441\n",
       "Kurtosis:                       2.770   Cond. No.                         38.3\n",
       "==============================================================================\n",
       "\n",
       "Warnings:\n",
       "[1] Standard Errors assume that the covariance matrix of the errors is correctly specified.\n",
       "\"\"\""
      ]
     },
     "execution_count": 18,
     "metadata": {},
     "output_type": "execute_result"
    }
   ],
   "source": [
    "#multiple linear regression \n",
    "from statsmodels.stats.outliers_influence import variance_inflation_factor\n",
    "\n",
    "# Train a multiple linear regression model using logarithmic normalized salary and the gini \n",
    "# coeffient as the independant variables, and percent of potential points as the dependant variable \n",
    "\n",
    "X2 = total[['constant','log_norm_salary', 'gini']]\n",
    "y2 = total.pct_of_potential_points.values\n",
    "\n",
    "X_train2, X_test2, y_train2, y_test2 = train_test_split(X2, y2, test_size=0.3, random_state=0)\n",
    "\n",
    "reg_sm2 = sm.OLS(y_train2, X_train2).fit()\n",
    "reg_sm2.summary()"
   ]
  },
  {
   "cell_type": "code",
   "execution_count": 19,
   "metadata": {},
   "outputs": [
    {
     "data": {
      "text/plain": [
       "constant           24.002134\n",
       "log_norm_salary     1.151560\n",
       "gini                1.151560\n",
       "dtype: float64"
      ]
     },
     "execution_count": 19,
     "metadata": {},
     "output_type": "execute_result"
    }
   ],
   "source": [
    "# Check for correlation between the independant variables\n",
    "pd.Series([variance_inflation_factor(X2.values,i) for i in range(X2.shape[1])],index=X2.columns)"
   ]
  },
  {
   "cell_type": "code",
   "execution_count": 20,
   "metadata": {},
   "outputs": [
    {
     "data": {
      "text/html": [
       "<table class=\"simpletable\">\n",
       "<caption>OLS Regression Results</caption>\n",
       "<tr>\n",
       "  <th>Dep. Variable:</th>            <td>y</td>        <th>  R-squared:         </th> <td>   0.459</td>\n",
       "</tr>\n",
       "<tr>\n",
       "  <th>Model:</th>                   <td>OLS</td>       <th>  Adj. R-squared:    </th> <td>   0.457</td>\n",
       "</tr>\n",
       "<tr>\n",
       "  <th>Method:</th>             <td>Least Squares</td>  <th>  F-statistic:       </th> <td>   229.2</td>\n",
       "</tr>\n",
       "<tr>\n",
       "  <th>Date:</th>             <td>Fri, 27 May 2022</td> <th>  Prob (F-statistic):</th> <td>8.73e-73</td>\n",
       "</tr>\n",
       "<tr>\n",
       "  <th>Time:</th>                 <td>09:47:58</td>     <th>  Log-Likelihood:    </th> <td>  419.81</td>\n",
       "</tr>\n",
       "<tr>\n",
       "  <th>No. Observations:</th>      <td>   543</td>      <th>  AIC:               </th> <td>  -833.6</td>\n",
       "</tr>\n",
       "<tr>\n",
       "  <th>Df Residuals:</th>          <td>   540</td>      <th>  BIC:               </th> <td>  -820.7</td>\n",
       "</tr>\n",
       "<tr>\n",
       "  <th>Df Model:</th>              <td>     2</td>      <th>                     </th>     <td> </td>   \n",
       "</tr>\n",
       "<tr>\n",
       "  <th>Covariance Type:</th>      <td>nonrobust</td>    <th>                     </th>     <td> </td>   \n",
       "</tr>\n",
       "</table>\n",
       "<table class=\"simpletable\">\n",
       "<tr>\n",
       "         <td></td>            <th>coef</th>     <th>std err</th>      <th>t</th>      <th>P>|t|</th>  <th>[0.025</th>    <th>0.975]</th>  \n",
       "</tr>\n",
       "<tr>\n",
       "  <th>constant</th>        <td>    0.2280</td> <td>    0.013</td> <td>   18.218</td> <td> 0.000</td> <td>    0.203</td> <td>    0.253</td>\n",
       "</tr>\n",
       "<tr>\n",
       "  <th>log_norm_salary</th> <td>    0.0823</td> <td>    0.004</td> <td>   20.648</td> <td> 0.000</td> <td>    0.074</td> <td>    0.090</td>\n",
       "</tr>\n",
       "<tr>\n",
       "  <th>galt_score</th>      <td>    0.0048</td> <td>    0.002</td> <td>    2.753</td> <td> 0.006</td> <td>    0.001</td> <td>    0.008</td>\n",
       "</tr>\n",
       "</table>\n",
       "<table class=\"simpletable\">\n",
       "<tr>\n",
       "  <th>Omnibus:</th>       <td> 1.717</td> <th>  Durbin-Watson:     </th> <td>   1.979</td>\n",
       "</tr>\n",
       "<tr>\n",
       "  <th>Prob(Omnibus):</th> <td> 0.424</td> <th>  Jarque-Bera (JB):  </th> <td>   1.604</td>\n",
       "</tr>\n",
       "<tr>\n",
       "  <th>Skew:</th>          <td>-0.039</td> <th>  Prob(JB):          </th> <td>   0.448</td>\n",
       "</tr>\n",
       "<tr>\n",
       "  <th>Kurtosis:</th>      <td> 2.746</td> <th>  Cond. No.          </th> <td>    14.9</td>\n",
       "</tr>\n",
       "</table><br/><br/>Warnings:<br/>[1] Standard Errors assume that the covariance matrix of the errors is correctly specified."
      ],
      "text/plain": [
       "<class 'statsmodels.iolib.summary.Summary'>\n",
       "\"\"\"\n",
       "                            OLS Regression Results                            \n",
       "==============================================================================\n",
       "Dep. Variable:                      y   R-squared:                       0.459\n",
       "Model:                            OLS   Adj. R-squared:                  0.457\n",
       "Method:                 Least Squares   F-statistic:                     229.2\n",
       "Date:                Fri, 27 May 2022   Prob (F-statistic):           8.73e-73\n",
       "Time:                        09:47:58   Log-Likelihood:                 419.81\n",
       "No. Observations:                 543   AIC:                            -833.6\n",
       "Df Residuals:                     540   BIC:                            -820.7\n",
       "Df Model:                           2                                         \n",
       "Covariance Type:            nonrobust                                         \n",
       "===================================================================================\n",
       "                      coef    std err          t      P>|t|      [0.025      0.975]\n",
       "-----------------------------------------------------------------------------------\n",
       "constant            0.2280      0.013     18.218      0.000       0.203       0.253\n",
       "log_norm_salary     0.0823      0.004     20.648      0.000       0.074       0.090\n",
       "galt_score          0.0048      0.002      2.753      0.006       0.001       0.008\n",
       "==============================================================================\n",
       "Omnibus:                        1.717   Durbin-Watson:                   1.979\n",
       "Prob(Omnibus):                  0.424   Jarque-Bera (JB):                1.604\n",
       "Skew:                          -0.039   Prob(JB):                        0.448\n",
       "Kurtosis:                       2.746   Cond. No.                         14.9\n",
       "==============================================================================\n",
       "\n",
       "Warnings:\n",
       "[1] Standard Errors assume that the covariance matrix of the errors is correctly specified.\n",
       "\"\"\""
      ]
     },
     "execution_count": 20,
     "metadata": {},
     "output_type": "execute_result"
    }
   ],
   "source": [
    "# Train a multiple linear regression model using logarithmic normalized salary and the Galt score\n",
    "# as the independant variables, and percent of potential points as the dependant variable \n",
    "\n",
    "\n",
    "X3 = total[['constant','log_norm_salary', 'galt_score']]\n",
    "y3 = total.pct_of_potential_points.values\n",
    "\n",
    "X_train3, X_test3, y_train3, y_test3 = train_test_split(X3, y3, test_size=0.3, random_state=0)\n",
    "\n",
    "reg_sm3 = sm.OLS(y_train3, X_train3).fit()\n",
    "reg_sm3.summary()"
   ]
  },
  {
   "cell_type": "code",
   "execution_count": 21,
   "metadata": {},
   "outputs": [
    {
     "data": {
      "text/plain": [
       "constant           6.968622\n",
       "log_norm_salary    1.023572\n",
       "galt_score         1.023572\n",
       "dtype: float64"
      ]
     },
     "execution_count": 21,
     "metadata": {},
     "output_type": "execute_result"
    }
   ],
   "source": [
    "# Check for correlation between the independant variables\n",
    "pd.Series([variance_inflation_factor(X3.values,i) for i in range(X3.shape[1])],index=X3.columns)"
   ]
  },
  {
   "cell_type": "code",
   "execution_count": null,
   "metadata": {},
   "outputs": [],
   "source": []
  }
 ],
 "metadata": {
  "kernelspec": {
   "display_name": "Python 3",
   "language": "python",
   "name": "python3"
  },
  "language_info": {
   "codemirror_mode": {
    "name": "ipython",
    "version": 3
   },
   "file_extension": ".py",
   "mimetype": "text/x-python",
   "name": "python",
   "nbconvert_exporter": "python",
   "pygments_lexer": "ipython3",
   "version": "3.7.6"
  }
 },
 "nbformat": 4,
 "nbformat_minor": 4
}
